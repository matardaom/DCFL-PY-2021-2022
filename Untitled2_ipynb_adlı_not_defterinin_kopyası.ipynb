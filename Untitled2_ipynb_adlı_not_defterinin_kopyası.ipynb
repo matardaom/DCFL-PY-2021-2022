{
  "nbformat": 4,
  "nbformat_minor": 0,
  "metadata": {
    "colab": {
      "name": "Untitled2.ipynb adlı not defterinin kopyası",
      "provenance": [],
      "collapsed_sections": [],
      "authorship_tag": "ABX9TyPkAifIETV085KbLkKk3fwy",
      "include_colab_link": true
    },
    "kernelspec": {
      "name": "python3",
      "display_name": "Python 3"
    },
    "language_info": {
      "name": "python"
    }
  },
  "cells": [
    {
      "cell_type": "markdown",
      "metadata": {
        "id": "view-in-github",
        "colab_type": "text"
      },
      "source": [
        "<a href=\"https://colab.research.google.com/github/matardaom/DCFL-PY-2021-2022/blob/main/Untitled2_ipynb_adl%C4%B1_not_defterinin_kopyas%C4%B1.ipynb\" target=\"_parent\"><img src=\"https://colab.research.google.com/assets/colab-badge.svg\" alt=\"Open In Colab\"/></a>"
      ]
    },
    {
      "cell_type": "code",
      "execution_count": null,
      "metadata": {
        "id": "ycMQLr19tmCQ"
      },
      "outputs": [],
      "source": [
        "sorular = [\"SORU 1: 2+2=? \\na)4 \\nb)6 \\nc)12 \\nd)89 \\ne)hiçbiri\\n         =\",\"SORU 2: İstanbulun fethi ne zaman? \\na)2022 \\nb)1453 \\nc)1923 \\nd)Henüz fethedilmedi \\ne)1203\\n         =\",\"SORU 3: Bu ödevi beğendin mi? \\na)Berbat \\nb)Iyy o ne \\nc)Kim beğenir ki \\nd)Mükemmel \\ne)Bu nasıl ödev böyle çok kötü\\n         =\",\"SORU 4: Artık biraz zorlanalım değil mi \\n-f(x)=2x+1\\n-g(x)=3x-6\\nolduğuna göre (fog)(4) kaçtır \\na)8 \\nb)16 \\nc)14 \\nd)12 \\ne)13\\n         =\",\"SORU 5: Tamam biraz kolaylaştıralım :D \\n2**7 neye eşittir? \\na)32 \\nb)64 \\nc)128 \\nd)512 \\ne)256\\n         =\",\"SORU 6: Python'da bir listeye eleman eklemek için hangi komudu kullanırız? \\na)copy \\nb)clear \\nc)count \\nd)append \\ne)pop\\n         =\",\"SORU 7: Veysel hoca ders sonrası kodları nereye atar \\na)youtube \\nb)colaboratory \\nc)telegram \\nd)discord \\ne)github\\n         =\",\"SORU 8: Biraz da genel kültür soralım :) \\nKaradenizde dağlar denize ...... boşluğu doldurunuz \\na)paraleldir \\nb)diktir \\nc)çaprazlama uzanır \\nd)uzanmaz \\ne)yukarılamasına uzanır\\n         =\",\"SORU 9: Sona yaklaşıyoruz hadi bakalım :D \\nOkulumuz kaç seneliktir \\na)7 \\nb)6 \\nc)42 \\nd)2 \\ne)3\\n         =\",\"SORU 10: Okulumuz saat kaçta başlar \\na)8:30 \\nb)9:00 \\nc)9:20 \\nd)9:30 \\ne)9:10\\n         =\"]"
      ]
    },
    {
      "cell_type": "code",
      "source": [
        "puan= 0\n",
        "sorular."
      ],
      "metadata": {
        "id": "EPEN4T2AwwE5"
      },
      "execution_count": null,
      "outputs": []
    },
    {
      "cell_type": "code",
      "source": [
        "cevaplar = [\"a\",\"b\",\"d\",\"e\",\"c\",\"d\",\"e\",\"a\",\"d\",\"c\"]"
      ],
      "metadata": {
        "id": "3qAHe6tsv8HS"
      },
      "execution_count": null,
      "outputs": []
    },
    {
      "cell_type": "code",
      "source": [
        "puan= 0\n",
        "soru1 =input((sorular[0]))\n",
        "if soru1 in cevaplar[0]:\n",
        "  print(\"Doğru Bildin Aferin Ozaman Biraz Daha Zorlayalım\")\n",
        "  puan= puan+10\n",
        "  print(\"Şuanki puanın\", puan)\n",
        "  print(50*(\"*\"))\n",
        "\n",
        "else:\n",
        "  print(\"Nasıl bilemezsin! \\nNeyse diğer soruya geçelim \")\n",
        "  print(\"Şuanki puanın\", puan)\n",
        "  print(50*(\"*\"))\n",
        "soru2 =input((sorular[1]))\n",
        "if soru2 in cevaplar[1]:\n",
        "  print(\"Doğru Bildin!\\nHaydi devam edelim\")\n",
        "  puan= puan+10\n",
        "  print(\"Şuanki puanın\", puan)\n",
        "  print(50*(\"*\"))\n",
        "else:\n",
        "  print(\"Nasıl bilemezsin \\nHiç yakıştıramadım\")\n",
        "  print(50*(\"*\"))\n",
        "soru3 =input((sorular[2]))\n",
        "if soru3 in cevaplar[2]:\n",
        "  print(\"Doğru Bildin!\\nHaydi devam edelim\")\n",
        "  puan= puan+10\n",
        "  print(\"Şuanki puanın\", puan)\n",
        "  print(50*(\"*\"))\n",
        "else:\n",
        "  print(\"Nasıl bilemezsin \\nHiç yakıştıramadım\")\n",
        "  print(\"Şuanki puanın\", puan)\n",
        "  print(50*(\"*\"))\n",
        "soru4 =input((sorular[3]))\n",
        "if soru4 in cevaplar[3]:\n",
        "  print(\"Doğru Bildin!\\nHaydi devam edelim\")\n",
        "  puan= puan+10\n",
        "  print(\"Şuanki puanın\", puan)\n",
        "  print(50*(\"*\"))\n",
        "else:\n",
        "  print(\"Nasıl bilemezsin \\nHiç yakıştıramadım\")\n",
        "  print(\"Şuanki puanın\", puan)\n",
        "  print(50*(\"*\"))\n",
        "soru5 =input((sorular[4]))\n",
        "if soru5 in cevaplar[4]:\n",
        "  print(\"Doğru Bildin!\\nHaydi devam edelim\")\n",
        "  puan= puan+10\n",
        "  print(\"Şuanki puanın\", puan)\n",
        "  if puan ==50:\n",
        "    print(\"50 puan almışsın Maşallah, çok iyi gidiyorsun, Allah nazardan saklasın\")\n",
        "  print(50*(\"*\"))\n",
        "else:\n",
        "  print(\"Nasıl bilemezsin \\nHiç yakıştıramadım\")\n",
        "  print(\"Şuanki puanın\", puan)\n",
        "  print(50*(\"*\"))\n",
        "soru6 =input((sorular[5]))\n",
        "if soru6 in cevaplar[5]:\n",
        "  print(\"Doğru Bildin!\\nHaydi devam edelim\")\n",
        "  puan= puan+10\n",
        "  print(\"Şuanki puanın\", puan)\n",
        "  print(50*(\"*\"))\n",
        "else:\n",
        "  print(\"Nasıl bilemezsin \\nHiç yakıştıramadım\")\n",
        "  print(\"Şuanki puanın\", puan)\n",
        "  print(50*(\"*\"))\n",
        "soru7 =input((sorular[6]))\n",
        "if soru7 in cevaplar[6]:\n",
        "  print(\"Doğru Bildin!\\nHaydi devam edelim\")\n",
        "  puan= puan+10\n",
        "  print(\"Şuanki puanın\", puan)\n",
        "  print(50*(\"*\"))\n",
        "else:\n",
        "  print(\"Nasıl bilemezsin \\nHiç yakıştıramadım\")\n",
        "  print(\"Şuanki puanın\", puan)\n",
        "  print(50*(\"*\"))\n",
        "soru8 =input((sorular[7]))\n",
        "if soru8 in cevaplar[7]:\n",
        "  print(\"Doğru Bildin!\\nHaydi devam edelim\")\n",
        "  puan= puan+10\n",
        "  print(\"Şuanki puanın\", puan)\n",
        "  print(50*(\"*\"))\n",
        "else:\n",
        "  print(\"Nasıl bilemezsin \\nHiç yakıştıramadım\")\n",
        "  print(\"Şuanki puanın\", puan)\n",
        "  print(50*(\"*\"))\n",
        "soru9 =input((sorular[8]))\n",
        "if soru9 in cevaplar[8]:\n",
        "  print(\"Doğru Bildin!\\nHaydi devam edelim\")\n",
        "  puan= puan+10\n",
        "  print(\"Şuanki puanın\", puan)\n",
        "  print(50*(\"*\"))\n",
        "else:\n",
        "  print(\"Nasıl bilemezsin \\nHiç yakıştıramadım\")\n",
        "  print(\"Şuanki puanın\", puan)\n",
        "  print(50*(\"*\"))\n",
        "soru10 =input((sorular[9]))\n",
        "if soru10 in cevaplar[9]:\n",
        "  print(\"Doğru Bildin!\\nHaydi devam edelim\")\n",
        "  puan= puan+10\n",
        "  print(\"Şuanki puanın\", puan)\n",
        "  print(50*(\"*\"))\n",
        "else:\n",
        "  print(\"Nasıl bilemezsin \\nHiç yakıştıramadım\")\n",
        "  print(\"Şuanki puanın\", puan)\n",
        "  print(50*(\"*\"))\n",
        "print(\"Tebrikler bitirdin testi\")\n",
        "if puan ==0:\n",
        "  print(\"Başarın için düşüncemiz: sonucun çok kötü görmezden geleceğim hadi yine iyisin :)\")\n",
        "elif puan ==10:\n",
        "  print(\"Başarın için düşüncemiz: Valla biraz daha iyi olmalısın yalan söyleyemem\")\n",
        "elif puan ==20:\n",
        "  print(\"Başarın için düşüncemiz: Eh işte toparlanabilir\")\n",
        "elif puan ==30:\n",
        "  print(\"Başarın için düşüncemiz: iyi gibi bence\")\n",
        "elif puan ==40:\n",
        "  print(\"Başarın için düşüncemiz: iyisin sadece biraz daha geliştirmek lazım\")\n",
        "elif puan ==50:\n",
        "  print(\"Başarın için düşüncemiz: soruların yarısını doğru bildin büyük bir başarı bence\")\n",
        "elif puan ==60:\n",
        "  print(\"Başarın için düşüncemiz: Bu konuda iyisin :D\")\n",
        "elif puan ==70:\n",
        "  print(\"Başarın için düşüncemiz: çok iyisin\")\n",
        "elif puan ==80:\n",
        "  print(\"Başarın için düşüncemiz: fenasın başa belasın\")\n",
        "elif puan ==90:\n",
        "  print(\"Başarın için düşüncemiz: Helal kanka\")\n",
        "elif puan ==100:\n",
        "  print(\"Başarın için düşüncemiz: Valla diyecek bir şey yok has kodlamacı Maşallah\")\n",
        "\n",
        "  \n"
      ],
      "metadata": {
        "id": "P5yZMD0au5oS"
      },
      "execution_count": null,
      "outputs": []
    }
  ]
}