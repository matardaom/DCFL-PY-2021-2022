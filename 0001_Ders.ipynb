{
  "nbformat": 4,
  "nbformat_minor": 0,
  "metadata": {
    "colab": {
      "name": "0001.Ders.ipynb",
      "provenance": [],
      "collapsed_sections": []
    },
    "kernelspec": {
      "name": "python3",
      "display_name": "Python 3"
    },
    "language_info": {
      "name": "python"
    }
  },
  "cells": [
    {
      "cell_type": "markdown",
      "metadata": {
        "id": "U1OxXCWPXFNt"
      },
      "source": [
        "\n",
        "\n",
        "1.Ders: Veri Tipleri -Sayılar -Yazılar-string\n",
        "\n"
      ]
    },
    {
      "cell_type": "code",
      "metadata": {
        "id": "GJwfjLd3W-Cl"
      },
      "source": [
        "#int--tamsayılar\n",
        "#float--ondalık sayılar"
      ],
      "execution_count": null,
      "outputs": []
    },
    {
      "cell_type": "code",
      "metadata": {
        "id": "dnfHnFDTQsTE"
      },
      "source": [
        "#Değişken: yet tutucu\n",
        "\n",
        "a = 19\n",
        "b = 4\n",
        "c = 6"
      ],
      "execution_count": null,
      "outputs": []
    },
    {
      "cell_type": "code",
      "metadata": {
        "colab": {
          "base_uri": "https://localhost:8080/"
        },
        "id": "ZZ6fdL0VQ0Sl",
        "outputId": "ee904615-9b11-455f-d278-1513a66ec967"
      },
      "source": [
        "a+b+c"
      ],
      "execution_count": null,
      "outputs": [
        {
          "output_type": "execute_result",
          "data": {
            "text/plain": [
              "29"
            ]
          },
          "metadata": {},
          "execution_count": 4
        }
      ]
    },
    {
      "cell_type": "code",
      "metadata": {
        "id": "67CuFuIlRBF2"
      },
      "source": [
        "#Matematiksel operatörler\n",
        "#+, -, *, /, %, //, **"
      ],
      "execution_count": null,
      "outputs": []
    },
    {
      "cell_type": "code",
      "metadata": {
        "id": "_6IwJ3bZRJCa"
      },
      "source": [
        "a = 18\n",
        "b = 5\n",
        "c = 7"
      ],
      "execution_count": null,
      "outputs": []
    },
    {
      "cell_type": "code",
      "metadata": {
        "colab": {
          "base_uri": "https://localhost:8080/"
        },
        "id": "dpZpjLP4ROoe",
        "outputId": "8e07de60-7db9-4642-ac05-9b8b6ee5e4f4"
      },
      "source": [
        "a + b"
      ],
      "execution_count": null,
      "outputs": [
        {
          "output_type": "execute_result",
          "data": {
            "text/plain": [
              "23"
            ]
          },
          "metadata": {},
          "execution_count": 7
        }
      ]
    },
    {
      "cell_type": "code",
      "metadata": {
        "colab": {
          "base_uri": "https://localhost:8080/"
        },
        "id": "4XyJI8c6RS1P",
        "outputId": "d8fadc3c-ed1b-4982-f330-3289c82230d4"
      },
      "source": [
        "a*b"
      ],
      "execution_count": null,
      "outputs": [
        {
          "output_type": "execute_result",
          "data": {
            "text/plain": [
              "90"
            ]
          },
          "metadata": {},
          "execution_count": 8
        }
      ]
    },
    {
      "cell_type": "code",
      "metadata": {
        "colab": {
          "base_uri": "https://localhost:8080/"
        },
        "id": "TOWD6I1dRVff",
        "outputId": "8cf0054b-b50c-4237-c72a-2835a6cc8411"
      },
      "source": [
        "a/b"
      ],
      "execution_count": null,
      "outputs": [
        {
          "output_type": "execute_result",
          "data": {
            "text/plain": [
              "3.6"
            ]
          },
          "metadata": {},
          "execution_count": 9
        }
      ]
    },
    {
      "cell_type": "code",
      "metadata": {
        "colab": {
          "base_uri": "https://localhost:8080/"
        },
        "id": "HPORcS2ARXNK",
        "outputId": "7492257e-aae3-4826-f6f4-855c14a6eefa"
      },
      "source": [
        "a//c"
      ],
      "execution_count": null,
      "outputs": [
        {
          "output_type": "execute_result",
          "data": {
            "text/plain": [
              "2"
            ]
          },
          "metadata": {},
          "execution_count": 10
        }
      ]
    },
    {
      "cell_type": "code",
      "metadata": {
        "colab": {
          "base_uri": "https://localhost:8080/"
        },
        "id": "o8PiHWU-RbYn",
        "outputId": "c82c9364-65a6-42af-8dbc-44ac776a6d97"
      },
      "source": [
        "18%7"
      ],
      "execution_count": null,
      "outputs": [
        {
          "output_type": "execute_result",
          "data": {
            "text/plain": [
              "4"
            ]
          },
          "metadata": {},
          "execution_count": 11
        }
      ]
    },
    {
      "cell_type": "code",
      "metadata": {
        "id": "vab09LSNRfzt"
      },
      "source": [
        "#dairenin çevresini ve alanını hesaplayn mini program\n",
        "#çevre = 2*pi*r\n",
        "#Alan= pi*r**2\n",
        "r = 30\n",
        "\n"
      ],
      "execution_count": null,
      "outputs": []
    },
    {
      "cell_type": "code",
      "metadata": {
        "colab": {
          "base_uri": "https://localhost:8080/"
        },
        "id": "y1Tg9LtmSFBw",
        "outputId": "84806717-d3e5-4ab7-88a2-f1fb000e0af6"
      },
      "source": [
        "2*3.14*r"
      ],
      "execution_count": null,
      "outputs": [
        {
          "output_type": "execute_result",
          "data": {
            "text/plain": [
              "188.4"
            ]
          },
          "metadata": {},
          "execution_count": 23
        }
      ]
    },
    {
      "cell_type": "code",
      "metadata": {
        "colab": {
          "base_uri": "https://localhost:8080/"
        },
        "id": "X7q8Na5BSNbS",
        "outputId": "3e72b8ae-1a0a-429f-a420-1b6f280e2b6f"
      },
      "source": [
        "3.14*r**2"
      ],
      "execution_count": null,
      "outputs": [
        {
          "output_type": "execute_result",
          "data": {
            "text/plain": [
              "2826.0"
            ]
          },
          "metadata": {},
          "execution_count": 24
        }
      ]
    },
    {
      "cell_type": "code",
      "metadata": {
        "id": "gQx3Gt2JShQe"
      },
      "source": [
        "#Print fornksiyonu....çıktyıları kullanıcıya göstermek için kullanılan fonksiyondur.\n",
        "#string değerler \"\" içinde ayzılır"
      ],
      "execution_count": null,
      "outputs": []
    },
    {
      "cell_type": "code",
      "metadata": {
        "colab": {
          "base_uri": "https://localhost:8080/"
        },
        "id": "oKs_SPKkSohU",
        "outputId": "f5f9b021-5bda-4893-9d81-63634deac0fc"
      },
      "source": [
        "print(\"DCFL Python Atölyesi\")"
      ],
      "execution_count": null,
      "outputs": [
        {
          "output_type": "stream",
          "name": "stdout",
          "text": [
            "DCFL Python Atölyesi\n"
          ]
        }
      ]
    },
    {
      "cell_type": "code",
      "metadata": {
        "colab": {
          "base_uri": "https://localhost:8080/",
          "height": 35
        },
        "id": "DO3gZHBaSzmT",
        "outputId": "940a1c71-b692-4f6b-b18e-2212ebe410dc"
      },
      "source": [
        "\"DCFL Python Atölyesi\""
      ],
      "execution_count": null,
      "outputs": [
        {
          "output_type": "execute_result",
          "data": {
            "application/vnd.google.colaboratory.intrinsic+json": {
              "type": "string"
            },
            "text/plain": [
              "'DCFL Python Atölyesi'"
            ]
          },
          "metadata": {},
          "execution_count": 26
        }
      ]
    },
    {
      "cell_type": "code",
      "metadata": {
        "id": "Y90tb2ZpS9DC"
      },
      "source": [
        "#değişkenler print fonksiyonu içerisime yazılırken \"\" kullanılmaz"
      ],
      "execution_count": null,
      "outputs": []
    },
    {
      "cell_type": "code",
      "metadata": {
        "colab": {
          "base_uri": "https://localhost:8080/"
        },
        "id": "q0SOclttTJbd",
        "outputId": "8f67c3fa-5eb9-40d8-bd4a-2aed92555ae1"
      },
      "source": [
        "print(2+4)"
      ],
      "execution_count": null,
      "outputs": [
        {
          "output_type": "stream",
          "name": "stdout",
          "text": [
            "6\n"
          ]
        }
      ]
    },
    {
      "cell_type": "code",
      "metadata": {
        "colab": {
          "base_uri": "https://localhost:8080/"
        },
        "id": "Xro9rw6rTNsu",
        "outputId": "c777a749-d28f-4296-d76c-d2faf268c831"
      },
      "source": [
        "print(\"Toplamama işlemi:\", 3+4)"
      ],
      "execution_count": null,
      "outputs": [
        {
          "output_type": "stream",
          "name": "stdout",
          "text": [
            "Toplamama işlemi: 7\n"
          ]
        }
      ]
    },
    {
      "cell_type": "code",
      "metadata": {
        "colab": {
          "base_uri": "https://localhost:8080/"
        },
        "id": "7hdaRk71TdMu",
        "outputId": "f7e4acb1-88a1-4bfe-868b-85ac1c317153"
      },
      "source": [
        "r = 12\n",
        "pi = 3.14\n",
        "\n",
        "cevre = 2*pi*r\n",
        "alan = pi*r**2\n",
        "\n",
        "print(\"Dairenin alanı:\" , alan)\n",
        "print(\"Dairenin çevresi: \", cevre)"
      ],
      "execution_count": null,
      "outputs": [
        {
          "output_type": "stream",
          "name": "stdout",
          "text": [
            "Dairenin alanı: 452.16\n",
            "Dairenin çevresi:  75.36\n"
          ]
        }
      ]
    },
    {
      "cell_type": "code",
      "metadata": {
        "colab": {
          "base_uri": "https://localhost:8080/"
        },
        "id": "GqnFeDbsT_rV",
        "outputId": "34fb0c5c-18ec-4f40-d40e-9e27a4bbc780"
      },
      "source": [
        "#üçgenin alanını \n",
        "yukseklik = 18\n",
        "taban = 12\n",
        "\n",
        "alan = taban*yukseklik/2\n",
        "print(\"Girdiğin üçgenin taban uzunluğu: \", taban, \"\\nYüksekliği: \", yukseklik, \"\\nÜçgenin alanı: \", alan)"
      ],
      "execution_count": null,
      "outputs": [
        {
          "output_type": "stream",
          "name": "stdout",
          "text": [
            "Girdiğin üçgenin taban uzunluğu:  12 \n",
            "Yüksekliği:  18 \n",
            "Üçgenin alanı:  108.0\n"
          ]
        }
      ]
    },
    {
      "cell_type": "code",
      "metadata": {
        "id": "ADnU3nFlVJS3"
      },
      "source": [
        "#Kullanıcıdan veri alma...input() fonksiyonu"
      ],
      "execution_count": null,
      "outputs": []
    },
    {
      "cell_type": "code",
      "metadata": {
        "colab": {
          "base_uri": "https://localhost:8080/"
        },
        "id": "bSGDQFMFVTV1",
        "outputId": "27da1f73-3533-4fe1-c96e-2377b83d425d"
      },
      "source": [
        "ad = input(\"Adınızı giriniz: \")\n",
        "\n",
        "print(\"Hoşgeldin: \", ad)"
      ],
      "execution_count": null,
      "outputs": [
        {
          "output_type": "stream",
          "name": "stdout",
          "text": [
            "Adınızı giriniz: Kerim Efe\n",
            "Hoşgeldin:  Kerim Efe\n"
          ]
        }
      ]
    },
    {
      "cell_type": "code",
      "metadata": {
        "colab": {
          "base_uri": "https://localhost:8080/",
          "height": 270
        },
        "id": "tdjUr-WqYuYO",
        "outputId": "01c3db98-92ae-4767-aeaf-d8aeac2eec80"
      },
      "source": [
        "#kullanıcıdan iki sayı alıp üs alma programı yazma\n",
        "taban = input(\"Tabanı giriniz: \")\n",
        "us = input(\"Üssü giriniz: \")\n",
        "\n",
        "sonuc = taban**us\n",
        "\n",
        "print(\"Girdiğin taban: \", taban, \"Girdiğin üs: \", us, \"İşlem sonucu: \", sonuc)"
      ],
      "execution_count": 40,
      "outputs": [
        {
          "name": "stdout",
          "output_type": "stream",
          "text": [
            "Tabanı giriniz: 10\n",
            "Üssü giriniz: 3\n"
          ]
        },
        {
          "output_type": "error",
          "ename": "TypeError",
          "evalue": "ignored",
          "traceback": [
            "\u001b[0;31m---------------------------------------------------------------------------\u001b[0m",
            "\u001b[0;31mTypeError\u001b[0m                                 Traceback (most recent call last)",
            "\u001b[0;32m<ipython-input-40-8ff133332796>\u001b[0m in \u001b[0;36m<module>\u001b[0;34m()\u001b[0m\n\u001b[1;32m      3\u001b[0m \u001b[0mus\u001b[0m \u001b[0;34m=\u001b[0m \u001b[0minput\u001b[0m\u001b[0;34m(\u001b[0m\u001b[0;34m\"Üssü giriniz: \"\u001b[0m\u001b[0;34m)\u001b[0m\u001b[0;34m\u001b[0m\u001b[0;34m\u001b[0m\u001b[0m\n\u001b[1;32m      4\u001b[0m \u001b[0;34m\u001b[0m\u001b[0m\n\u001b[0;32m----> 5\u001b[0;31m \u001b[0msonuc\u001b[0m \u001b[0;34m=\u001b[0m \u001b[0mtaban\u001b[0m\u001b[0;34m**\u001b[0m\u001b[0mus\u001b[0m\u001b[0;34m\u001b[0m\u001b[0;34m\u001b[0m\u001b[0m\n\u001b[0m\u001b[1;32m      6\u001b[0m \u001b[0;34m\u001b[0m\u001b[0m\n\u001b[1;32m      7\u001b[0m \u001b[0mprint\u001b[0m\u001b[0;34m(\u001b[0m\u001b[0;34m\"Girdiğin taban: \"\u001b[0m\u001b[0;34m,\u001b[0m \u001b[0mtaban\u001b[0m\u001b[0;34m,\u001b[0m \u001b[0;34m\"Girdiğin üs: \"\u001b[0m\u001b[0;34m,\u001b[0m \u001b[0mus\u001b[0m\u001b[0;34m,\u001b[0m \u001b[0;34m\"İşlem sonucu: \"\u001b[0m\u001b[0;34m,\u001b[0m \u001b[0msonuc\u001b[0m\u001b[0;34m)\u001b[0m\u001b[0;34m\u001b[0m\u001b[0;34m\u001b[0m\u001b[0m\n",
            "\u001b[0;31mTypeError\u001b[0m: unsupported operand type(s) for ** or pow(): 'str' and 'str'"
          ]
        }
      ]
    },
    {
      "cell_type": "code",
      "metadata": {
        "colab": {
          "base_uri": "https://localhost:8080/"
        },
        "id": "g1Y-IlMEZiiW",
        "outputId": "5936240e-3b96-442c-ca51-ec4f25fb4d75"
      },
      "source": [
        "#kullanıcıdan iki sayı alıp üs alma programı yazma\n",
        "taban = int(input(\"Tabanı giriniz: \"))\n",
        "us = int(input(\"Üssü giriniz: \"))\n",
        "\n",
        "sonuc = taban**us\n",
        "\n",
        "print(\"Girdiğin taban: \", taban, \"\\nGirdiğin üs: \", us, \"\\nİşlem sonucu: \", sonuc)"
      ],
      "execution_count": 42,
      "outputs": [
        {
          "output_type": "stream",
          "name": "stdout",
          "text": [
            "Tabanı giriniz: 20\n",
            "Üssü giriniz: 37\n",
            "Girdiğin taban:  20 \n",
            "Girdiğin üs:  37 \n",
            "İşlem sonucu:  1374389534720000000000000000000000000000000000000\n"
          ]
        }
      ]
    },
    {
      "cell_type": "code",
      "metadata": {
        "id": "cqJzRw_6Z589"
      },
      "source": [
        "#veri tipi dönüşümü"
      ],
      "execution_count": null,
      "outputs": []
    },
    {
      "cell_type": "code",
      "metadata": {
        "colab": {
          "base_uri": "https://localhost:8080/"
        },
        "id": "jUumiEffZ8hg",
        "outputId": "415e6ca6-11f8-469c-e32a-abd2f188ce2b"
      },
      "source": [
        "#type() fonksiyonu\n",
        "\n",
        "ad = \"Dcfl\"\n",
        "type(ad)"
      ],
      "execution_count": 43,
      "outputs": [
        {
          "output_type": "execute_result",
          "data": {
            "text/plain": [
              "str"
            ]
          },
          "metadata": {},
          "execution_count": 43
        }
      ]
    },
    {
      "cell_type": "code",
      "metadata": {
        "colab": {
          "base_uri": "https://localhost:8080/"
        },
        "id": "Wc9IVnm7aNBL",
        "outputId": "01021f74-af7c-4b07-c4fe-fcf7624e268d"
      },
      "source": [
        "a = 56\n",
        "type(a)"
      ],
      "execution_count": 44,
      "outputs": [
        {
          "output_type": "execute_result",
          "data": {
            "text/plain": [
              "int"
            ]
          },
          "metadata": {},
          "execution_count": 44
        }
      ]
    },
    {
      "cell_type": "code",
      "metadata": {
        "colab": {
          "base_uri": "https://localhost:8080/"
        },
        "id": "-p2o7ssiaP6x",
        "outputId": "c3e2fdf2-02a7-40c1-9efe-75ea2828efdc"
      },
      "source": [
        "b = 4.78\n",
        "type(b)"
      ],
      "execution_count": 45,
      "outputs": [
        {
          "output_type": "execute_result",
          "data": {
            "text/plain": [
              "float"
            ]
          },
          "metadata": {},
          "execution_count": 45
        }
      ]
    },
    {
      "cell_type": "code",
      "metadata": {
        "colab": {
          "base_uri": "https://localhost:8080/"
        },
        "id": "l4so-6KHabgs",
        "outputId": "58520a54-ce61-48b9-95c9-1702754d011d"
      },
      "source": [
        "boy = 179.21\n",
        "type(boy)\n",
        "\n"
      ],
      "execution_count": 48,
      "outputs": [
        {
          "output_type": "execute_result",
          "data": {
            "text/plain": [
              "float"
            ]
          },
          "metadata": {},
          "execution_count": 48
        }
      ]
    },
    {
      "cell_type": "code",
      "metadata": {
        "colab": {
          "base_uri": "https://localhost:8080/"
        },
        "id": "0vty8nb4angD",
        "outputId": "af4649fd-1441-45ea-93ce-de198098723c"
      },
      "source": [
        "int(boy)\n"
      ],
      "execution_count": 53,
      "outputs": [
        {
          "output_type": "execute_result",
          "data": {
            "text/plain": [
              "179"
            ]
          },
          "metadata": {},
          "execution_count": 53
        }
      ]
    },
    {
      "cell_type": "code",
      "metadata": {
        "id": "ubFgpx9Sazld"
      },
      "source": [
        "c = int(boy)"
      ],
      "execution_count": 54,
      "outputs": []
    },
    {
      "cell_type": "code",
      "metadata": {
        "colab": {
          "base_uri": "https://localhost:8080/"
        },
        "id": "Z3SE9hQAa078",
        "outputId": "97922ad7-0b39-4225-b226-929aa8731c2e"
      },
      "source": [
        "type(c)"
      ],
      "execution_count": 55,
      "outputs": [
        {
          "output_type": "execute_result",
          "data": {
            "text/plain": [
              "int"
            ]
          },
          "metadata": {},
          "execution_count": 55
        }
      ]
    },
    {
      "cell_type": "code",
      "metadata": {
        "colab": {
          "base_uri": "https://localhost:8080/"
        },
        "id": "Tm1tLnP5a77N",
        "outputId": "f1e7c553-cc71-4f58-a18e-bf16390211ea"
      },
      "source": [
        "sayi = \"2021\"\n",
        "int(sayi)"
      ],
      "execution_count": 56,
      "outputs": [
        {
          "output_type": "execute_result",
          "data": {
            "text/plain": [
              "2021"
            ]
          },
          "metadata": {},
          "execution_count": 56
        }
      ]
    },
    {
      "cell_type": "code",
      "metadata": {
        "colab": {
          "base_uri": "https://localhost:8080/"
        },
        "id": "cWD4ihhtbERt",
        "outputId": "aaede311-68a9-4050-a7b3-b3c2dc93655b"
      },
      "source": [
        "elma = 123456\n",
        "type(elma)"
      ],
      "execution_count": 57,
      "outputs": [
        {
          "output_type": "execute_result",
          "data": {
            "text/plain": [
              "int"
            ]
          },
          "metadata": {},
          "execution_count": 57
        }
      ]
    },
    {
      "cell_type": "code",
      "metadata": {
        "colab": {
          "base_uri": "https://localhost:8080/",
          "height": 35
        },
        "id": "Is1a8Np6bLqQ",
        "outputId": "43f639ef-09c2-43c1-c85b-6dad69287fa1"
      },
      "source": [
        "str(elma)"
      ],
      "execution_count": 58,
      "outputs": [
        {
          "output_type": "execute_result",
          "data": {
            "application/vnd.google.colaboratory.intrinsic+json": {
              "type": "string"
            },
            "text/plain": [
              "'123456'"
            ]
          },
          "metadata": {},
          "execution_count": 58
        }
      ]
    },
    {
      "cell_type": "code",
      "metadata": {
        "colab": {
          "base_uri": "https://localhost:8080/"
        },
        "id": "Rzvrz1DobRuy",
        "outputId": "c387ed91-dcd1-4e25-fc13-0ee67e8a10f3"
      },
      "source": [
        "sayi = 12\n",
        "type(sayi)"
      ],
      "execution_count": 59,
      "outputs": [
        {
          "output_type": "execute_result",
          "data": {
            "text/plain": [
              "int"
            ]
          },
          "metadata": {},
          "execution_count": 59
        }
      ]
    },
    {
      "cell_type": "code",
      "metadata": {
        "colab": {
          "base_uri": "https://localhost:8080/"
        },
        "id": "6BQFlpGYbV-_",
        "outputId": "9789af7c-01e7-4295-90d9-57272724b5a5"
      },
      "source": [
        "float(sayi)"
      ],
      "execution_count": 60,
      "outputs": [
        {
          "output_type": "execute_result",
          "data": {
            "text/plain": [
              "12.0"
            ]
          },
          "metadata": {},
          "execution_count": 60
        }
      ]
    },
    {
      "cell_type": "code",
      "metadata": {
        "colab": {
          "base_uri": "https://localhost:8080/"
        },
        "id": "_KHTktG0beqk",
        "outputId": "a1daa7ef-21b9-4517-dd78-1b29a222cb2a"
      },
      "source": [
        "kiraz = \"12345sdf456\"\n",
        "type(kiraz)"
      ],
      "execution_count": 61,
      "outputs": [
        {
          "output_type": "execute_result",
          "data": {
            "text/plain": [
              "str"
            ]
          },
          "metadata": {},
          "execution_count": 61
        }
      ]
    },
    {
      "cell_type": "code",
      "metadata": {
        "colab": {
          "base_uri": "https://localhost:8080/",
          "height": 166
        },
        "id": "dlyXb-7yblGH",
        "outputId": "faaf3522-bf44-438d-d733-8919737062f0"
      },
      "source": [
        "int(kiraz)"
      ],
      "execution_count": 62,
      "outputs": [
        {
          "output_type": "error",
          "ename": "ValueError",
          "evalue": "ignored",
          "traceback": [
            "\u001b[0;31m---------------------------------------------------------------------------\u001b[0m",
            "\u001b[0;31mValueError\u001b[0m                                Traceback (most recent call last)",
            "\u001b[0;32m<ipython-input-62-5d94ed96e878>\u001b[0m in \u001b[0;36m<module>\u001b[0;34m()\u001b[0m\n\u001b[0;32m----> 1\u001b[0;31m \u001b[0mint\u001b[0m\u001b[0;34m(\u001b[0m\u001b[0mkiraz\u001b[0m\u001b[0;34m)\u001b[0m\u001b[0;34m\u001b[0m\u001b[0;34m\u001b[0m\u001b[0m\n\u001b[0m",
            "\u001b[0;31mValueError\u001b[0m: invalid literal for int() with base 10: '12345sdf456'"
          ]
        }
      ]
    },
    {
      "cell_type": "code",
      "metadata": {
        "id": "0i5lgrU6b1dc"
      },
      "source": [
        "#print() fonksiyonunun bazı özellikleri.\n",
        "#format özelliği"
      ],
      "execution_count": null,
      "outputs": []
    },
    {
      "cell_type": "code",
      "metadata": {
        "colab": {
          "base_uri": "https://localhost:8080/"
        },
        "id": "ecaNMiB8b9NY",
        "outputId": "ec033849-790d-42c7-8de8-8e1002dc0982"
      },
      "source": [
        "ad = input(\"Adını gir: \")\n",
        "yas = int(input(\"Yaşını gir: \"))\n",
        "sinif = input(\"Sınıfını gir: \")\n",
        "okul = input(\"okulunu gir: \")\n",
        "\n",
        "print(\"Benim adım: \", ad, \"Yaşım: \", yas, \"Sınıfım: \", sinif, \"Okulum: \", okul)"
      ],
      "execution_count": 63,
      "outputs": [
        {
          "output_type": "stream",
          "name": "stdout",
          "text": [
            "Adını gir: Sudenaz\n",
            "Yaşını gir: 15\n",
            "Sınıfını gir: 10A\n",
            "okulunu gir: 245\n",
            "Benim adım:  Sudenaz Yaşım:  15 Sınıfım:  10A Okulum:  245\n"
          ]
        }
      ]
    },
    {
      "cell_type": "code",
      "metadata": {
        "colab": {
          "base_uri": "https://localhost:8080/"
        },
        "id": "LDW0herIcltf",
        "outputId": "faca1201-6af3-4574-9f6e-7424025fc1a4"
      },
      "source": [
        "ad = input(\"Adını gir: \")\n",
        "yas = int(input(\"Yaşını gir: \"))\n",
        "sinif = input(\"Sınıfını gir: \")\n",
        "okul = input(\"okulunu gir: \")\n",
        "\n",
        "print(50*\"*\")\n",
        "\n",
        "print(\"Benim adım: {}. \\nYaşım: {}. \\nSınıfım: {}. \\nOkulum: {}\".format(ad, yas, sinif, okul))"
      ],
      "execution_count": 67,
      "outputs": [
        {
          "output_type": "stream",
          "name": "stdout",
          "text": [
            "Adını gir: Umut\n",
            "Yaşını gir: 15\n",
            "Sınıfını gir: 10B\n",
            "okulunu gir: DCFL\n",
            "**************************************************\n",
            "Benim adım: Umut. \n",
            "Yaşım: 15. \n",
            "Sınıfım: 10B. \n",
            "Okulum: DCFL\n"
          ]
        }
      ]
    },
    {
      "cell_type": "code",
      "metadata": {
        "id": "_TIAGZBreFjm"
      },
      "source": [
        "#Kullanıcıdan yarıçap alıp dairenin alanını ve çeresini hesaplayan program"
      ],
      "execution_count": null,
      "outputs": []
    },
    {
      "cell_type": "code",
      "metadata": {
        "colab": {
          "base_uri": "https://localhost:8080/"
        },
        "id": "0sfzHBpMfBrI",
        "outputId": "2aedeafb-d55a-4362-f13f-75bfd5adaae6"
      },
      "source": [
        "r = float(input(\"Daairenin yarıçapını gir: \"))\n",
        "alan = 3.14*r**2\n",
        "cevre = 2*3.14*r\n",
        "\n",
        "print(\"Yarıçap: \", r)\n",
        "print(\"Alan: \", alan)\n",
        "print(\"Çevre: \", cevre)"
      ],
      "execution_count": 77,
      "outputs": [
        {
          "output_type": "stream",
          "name": "stdout",
          "text": [
            "Daairenin yarıçapını gir: 13.67\n",
            "Yarıçap:  13.67\n",
            "Alan:  586.7683460000001\n",
            "Çevre:  85.8476\n"
          ]
        }
      ]
    }
  ]
}